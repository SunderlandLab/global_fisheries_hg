{
 "cells": [
  {
   "cell_type": "code",
   "execution_count": 1,
   "metadata": {},
   "outputs": [],
   "source": [
    "import pandas as pd\n",
    "import numpy as np"
   ]
  },
  {
   "cell_type": "code",
   "execution_count": 3,
   "metadata": {},
   "outputs": [
    {
     "name": "stdout",
     "output_type": "stream",
     "text": [
      "low\n",
      "                                  catch         hg\n",
      " species                                          \n",
      " Filter feeders                817817.2    12454.3\n",
      " Large Pelagics               5317211.4  1220616.1\n",
      " Large Predators              1091311.7   235304.1\n",
      " Others                       2243945.4    81628.9\n",
      " Piscivores                  10879466.4  1174801.4\n",
      " Planktivores and Omnivores  26295839.8  1480497.3\n",
      "--------------------------------------------------\n",
      "high\n",
      "                                  catch         hg\n",
      " species                                          \n",
      " Filter feeders                817817.1    16605.7\n",
      " Large Pelagics               5317211.8  1700456.3\n",
      " Large Predators              1091311.8   376196.0\n",
      " Others                       2243945.5   121643.1\n",
      " Piscivores                  10879466.5  1793117.9\n",
      " Planktivores and Omnivores  26295839.9  2087880.9\n",
      "--------------------------------------------------\n",
      "nospace\n",
      "                                  catch         hg\n",
      " species                                          \n",
      " Filter feeders                817817.1    16605.7\n",
      " Large Pelagics               5317211.8  1700456.3\n",
      " Large Predators              1091311.8   376196.0\n",
      " Others                       2243945.5   121643.1\n",
      " Piscivores                  10879466.5  1793117.9\n",
      " Planktivores and Omnivores  26295839.9  2087880.9\n",
      "--------------------------------------------------\n",
      "halfscale\n",
      "                                  catch         hg\n",
      " species                                          \n",
      " Filter feeders                817817.1    16605.7\n",
      " Large Pelagics               5317211.9  1700456.4\n",
      " Large Predators              1091311.8   376196.0\n",
      " Others                       2243945.6   121643.0\n",
      " Piscivores                  10879466.4  1793117.9\n",
      " Planktivores and Omnivores  26295839.7  2087880.9\n",
      "--------------------------------------------------\n"
     ]
    }
   ],
   "source": [
    "for scenario in ['low','high','nospace','halfscale']:\n",
    "    df = pd.read_csv(f'scenario_data/{scenario}_scenario_categories.csv')\n",
    "    print(scenario)\n",
    "    print(df.groupby(' species').sum())\n",
    "    print('-'*50)"
   ]
  },
  {
   "cell_type": "code",
   "execution_count": 9,
   "metadata": {},
   "outputs": [
    {
     "name": "stdout",
     "output_type": "stream",
     "text": [
      "% with Se:Hg > 1, % of tropical with Se:Hg > 1, % with Se:Hg < 5\n",
      "low\n",
      "71.48760330578513 59.09090909090909 77.27272727272727\n",
      "--------------------------------------------------\n",
      "high\n",
      "45.86776859504132 24.025974025974026 92.56198347107438\n",
      "--------------------------------------------------\n",
      "nospace\n",
      "49.586776859504134 27.92207792207792 83.88429752066116\n",
      "--------------------------------------------------\n",
      "halfscale\n",
      "53.71900826446281 32.467532467532465 80.99173553719008\n",
      "--------------------------------------------------\n"
     ]
    }
   ],
   "source": [
    "print('% with Se:Hg > 1, % of tropical with Se:Hg > 1, % with Se:Hg < 5')\n",
    "for scenario in ['low','high','nospace','halfscale']:\n",
    "    df = pd.read_csv(f'scenario_data/eez_country_table_{scenario}.csv')\n",
    "    print(scenario)\n",
    "    print(100*sum(df['Hg:Se']<1)/242, 100*sum((df['Hg:Se']<1) & (df['tropical']))/sum(df['tropical']), 100*sum(df['Hg:Se']>0.2)/242)\n",
    "    print('-'*50)"
   ]
  },
  {
   "cell_type": "code",
   "execution_count": 8,
   "metadata": {},
   "outputs": [
    {
     "name": "stdout",
     "output_type": "stream",
     "text": [
      "Highest average concentration of catch\n",
      "and number of countries with reference consumption < 170 g/day\n",
      "low\n",
      "0.34 145\n",
      "--------------------------------------------------\n",
      "high\n",
      "0.72 171\n",
      "--------------------------------------------------\n",
      "nocoast\n",
      "0.63 162\n",
      "--------------------------------------------------\n",
      "doublecoast\n",
      "0.62 168\n",
      "--------------------------------------------------\n",
      "halfscale\n",
      "0.43 167\n",
      "--------------------------------------------------\n",
      "nospace\n",
      "0.4 167\n",
      "--------------------------------------------------\n"
     ]
    }
   ],
   "source": [
    "print('Highest average concentration of catch')\n",
    "print('and number of countries with reference consumption < 170 g/day')\n",
    "for scenario in ['low','high','nocoast','doublecoast','halfscale','nospace']:\n",
    "    df = pd.read_csv(f'scenario_data/subsistence_table_{scenario}.csv')\n",
    "    print(scenario)\n",
    "    print(df['avg. MeHg concentration'].max(), sum(df['mean reference consumption (g/day)']<170.0))\n",
    "    print('-'*50)"
   ]
  },
  {
   "cell_type": "code",
   "execution_count": null,
   "metadata": {},
   "outputs": [],
   "source": []
  }
 ],
 "metadata": {
  "kernelspec": {
   "display_name": "Python 3",
   "language": "python",
   "name": "python3"
  },
  "language_info": {
   "codemirror_mode": {
    "name": "ipython",
    "version": 3
   },
   "file_extension": ".py",
   "mimetype": "text/x-python",
   "name": "python",
   "nbconvert_exporter": "python",
   "pygments_lexer": "ipython3",
   "version": "3.9.13"
  },
  "orig_nbformat": 4
 },
 "nbformat": 4,
 "nbformat_minor": 2
}
